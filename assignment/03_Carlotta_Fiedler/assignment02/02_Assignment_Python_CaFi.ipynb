{
  "cells": [
    {
      "cell_type": "markdown",
      "source": [
        "# Assignment 02\n",
        "##### Python Basics II\n",
        "\n",
        "This tutorial was written by Terry Ruas (University of Göttingen); The references for external contributors for which this material was anyhow adapted/inspired are in the Acknowledgments section (end of the document).\n"
      ],
      "metadata": {
        "collapsed": false,
        "id": "LZgQdr4W6iKz"
      }
    },
    {
      "cell_type": "markdown",
      "source": [
        "This notebook will cover the following tasks:\n",
        "\n",
        "1. String Length\n",
        "2. Largest List Element\n",
        "3. Character Frequency\n",
        "4. Sorted List of Tuples\n",
        "5. Check Brackets\n",
        "6. Check Brackets II\n",
        "7. Queue\n",
        "8. Unlimited Power\n",
        "9. Unlimited Power II"
      ],
      "metadata": {
        "collapsed": false,
        "id": "Yvektzz_6iK1"
      }
    },
    {
      "cell_type": "markdown",
      "source": [
        "## Task 01 – String Length\n",
        "Write a program that reads in a string and prints the length of the input string. Do not use any built-in functions of Python, such as len().\n",
        "For example, if the input is “Computer Science”, the output should be length: 16."
      ],
      "metadata": {
        "collapsed": false,
        "id": "4GPUv_8U6iK1"
      }
    },
    {
      "cell_type": "code",
      "execution_count": 1,
      "outputs": [
        {
          "output_type": "stream",
          "name": "stdout",
          "text": [
            "Commit String to determine length:hallihallohalloechen\n",
            "20\n",
            "Correct\n"
          ]
        }
      ],
      "source": [
        "# Task 01 – String Length\n",
        "def my_length(s):\n",
        "  counter = 0\n",
        "  while (s != \"\"):\n",
        "      s = s[1:]\n",
        "      counter = counter+1\n",
        "  return (counter)\n",
        "\n",
        "s = input('Commit String to determine length:')\n",
        "print(my_length(s))\n",
        "#Test\n",
        "if (my_length(s) == len(s)):\n",
        "    print(\"Correct\")"
      ],
      "metadata": {
        "id": "xt3XV0YD6iK2",
        "colab": {
          "base_uri": "https://localhost:8080/"
        },
        "outputId": "3b0017e9-80fa-4ad7-b523-5fceb429f27a"
      }
    },
    {
      "cell_type": "markdown",
      "source": [
        "## Task 02 – Largest List Element\n",
        "Write a program that generates a list of 10 random integers between 1 and 100 and then finds and prints the largest element in the list. Do not use the built-in function max().\n",
        "For example, if the input is [23,3,42,29,12,15,8,4,37,34], the output should be the largest element: 42.\n",
        "\n",
        "Hint: Check out the module [random](https://docs.python.org/3.7/library/random.html)."
      ],
      "metadata": {
        "collapsed": false,
        "id": "_Jz4T4AQ6iK3"
      }
    },
    {
      "cell_type": "code",
      "execution_count": 10,
      "outputs": [
        {
          "output_type": "stream",
          "name": "stdout",
          "text": [
            "[10, 8, 6, 64, 11, 29, 69, 43, 15, 59]\n",
            "69\n"
          ]
        }
      ],
      "source": [
        "# Task 02 – Largest List Element\n",
        "def my_largest_element(list):\n",
        "    max = list[0]\n",
        "    for i in range(0,len(list)):\n",
        "        if (list[i] >= max):\n",
        "            max = list[i]\n",
        "    return max\n",
        "\n",
        "# create list with 10 random integers\n",
        "import random\n",
        "list = [random.randint(0,100) for i in range(10)]\n",
        "print(list)\n",
        "print(my_largest_element(list))"
      ],
      "metadata": {
        "id": "aKLGcZ0_6iK3",
        "colab": {
          "base_uri": "https://localhost:8080/"
        },
        "outputId": "d590d188-f096-4df9-df3d-ec1129ba8a59"
      }
    },
    {
      "cell_type": "markdown",
      "source": [
        "## Task 03 – Character Frequency\n",
        "Write a program that:\n",
        "* Reads in a string and removes any spaces from the string\n",
        "* Counts how often individual characters occur in the string\n",
        "* Stores the information on character occurrence frequency in a dictionary\n",
        "* Prints the dictionary.\n",
        "\n",
        "For example, if the input is “santa claus”, the output should be:\n",
        "{'s': 2, 'a': 3, 'n': 1, 't': 1, 'c': 1, 'l': 1, 'u': 1}."
      ],
      "metadata": {
        "collapsed": false,
        "id": "PalhJ9x36iK4"
      }
    },
    {
      "cell_type": "code",
      "execution_count": 3,
      "outputs": [
        {
          "output_type": "stream",
          "name": "stdout",
          "text": [
            "Commit a String:santa claus\n",
            "{'s': 2, 'a': 3, 'n': 1, 't': 1, 'c': 1, 'l': 1, 'u': 1}\n"
          ]
        }
      ],
      "source": [
        "# Task 03 – Character Frequency\n",
        "def letter_count(s):\n",
        "    dict = {}\n",
        "    for letter in s:\n",
        "        if letter not in dict:\n",
        "            key, value = letter, s.count(letter)\n",
        "            dict[key]=value\n",
        "    return dict\n",
        "\n",
        "s = input('Commit a String:')\n",
        "s = s.replace(\" \", \"\") # removes whitespaces\n",
        "print(letter_count(s))"
      ],
      "metadata": {
        "id": "vm5UlcKB6iK4",
        "colab": {
          "base_uri": "https://localhost:8080/"
        },
        "outputId": "4b13afd2-1d2b-485f-b0bb-7e68aae6163b"
      }
    },
    {
      "cell_type": "markdown",
      "source": [
        "## Task 04 – Sorted List of Tuples\n",
        "Write a program that:\n",
        "* Generates a list of 10 tuples, each tuple consisting of 3 random integers between 1 and 100\n",
        "* Sorts the list of tuples in increasing order of the third element in each tuple\n",
        "* Prints the sorted list of tuples\n",
        "\n",
        "For example, if the generated input list is: [(56, 77, 69), (43, 30, 38), (2, 77, 101), (93, 57, 4), (74, 21, 77), (39, 68, 68), (65, 53, 96), (16, 29, 88), (88, 70, 38)]\n",
        "The output should be: [(93, 57, 4), (43, 30, 38), (88, 70, 38), (39, 68, 68), (56, 77, 69), (74, 21, 77), (16, 29, 88), (65, 53, 96), (2, 77, 101)]\n",
        "\n",
        "Hint: You are allowed and encouraged to use built-in functions, such as [sorted()](https://docs.python.org/3.7/library/functions.html?highlight=sorted#sorted), for this task."
      ],
      "metadata": {
        "collapsed": false,
        "id": "JV1Mm9qA6iK5"
      }
    },
    {
      "cell_type": "code",
      "execution_count": 4,
      "outputs": [
        {
          "output_type": "stream",
          "name": "stdout",
          "text": [
            "Random list of tuples:\n",
            "[(56, 55, 84), (81, 61, 99), (43, 13, 54), (85, 20, 26), (78, 86, 3), (96, 71, 15), (75, 1, 65), (53, 52, 84), (45, 61, 19), (1, 93, 43)]\n",
            "Sorted list of random tuples:\n",
            "[(78, 86, 3), (96, 71, 15), (45, 61, 19), (85, 20, 26), (1, 93, 43), (43, 13, 54), (75, 1, 65), (56, 55, 84), (53, 52, 84), (81, 61, 99)]\n"
          ]
        }
      ],
      "source": [
        "# Task 04 – Sorted List of Tuples\n",
        "import random\n",
        "list = [(random.randint(0,100),random.randint(0,100),random.randint(0,100)) for i in range(10)]\n",
        "print(\"Random list of tuples:\")\n",
        "print(list)\n",
        "\n",
        "# bubble sort for list of tuples\n",
        "hi = len(list)-1\n",
        "while (hi >= 0):\n",
        "    for i in range(len(list)):\n",
        "        if (i<hi and list[i][2] > list[i+1][2]):\n",
        "            # vertausche list[i] und list[i+1]\n",
        "            tmp = list[i]\n",
        "            list[i] = list[i+1]\n",
        "            list[i+1] = tmp\n",
        "    hi = hi-1\n",
        "\n",
        "print(\"Sorted list of random tuples:\")\n",
        "print(list)"
      ],
      "metadata": {
        "id": "C3i7ctus6iK6",
        "colab": {
          "base_uri": "https://localhost:8080/"
        },
        "outputId": "3900b13d-7c75-4869-ab73-b1a10c5af690"
      }
    },
    {
      "cell_type": "markdown",
      "source": [
        "## Task 05 – Check Brackets\n",
        "Write a program that reads in a string, which is supposed to be a mathematical expression. Focus on brackets only and check whether left and right brackets are composed correctly. Ignore all other characters (i.e. you don’t have to check correctness of operators and operands).\n",
        "Examples of correct input:\n",
        "* 3*(2+5)\n",
        "* ((()())())\n",
        "* (3+)(((4)))\n",
        "* Empty string\n",
        "\n",
        "Examples of incorrect input:\n",
        "* (3*(2+5)\n",
        "* ((()())(())\n",
        "* (3+)((4)))\n",
        "* ())(()\n"
      ],
      "metadata": {
        "collapsed": false,
        "id": "qz4P36Lz6iK6"
      }
    },
    {
      "cell_type": "code",
      "execution_count": 5,
      "outputs": [
        {
          "output_type": "stream",
          "name": "stdout",
          "text": [
            "Check composition of brackets in the following mathematical expression:\n",
            "(3+)((4)))\n",
            "Brackets without other operators: ()(()))\n",
            "Composition of brackets is INCORRECT\n"
          ]
        }
      ],
      "source": [
        "# Task 05 – Check Brackets\n",
        "def only_brackets(term):\n",
        "    only = \"\"\n",
        "    for i in range(len(term)):\n",
        "        if term[i:i+1] == \"(\" or term[i:i+1] == \")\":\n",
        "            only = only + term[i:i+1]\n",
        "        else:\n",
        "            continue\n",
        "    print(\"Brackets without other operators: \" + only)\n",
        "    return only\n",
        "\n",
        "# Checks balance of different types of brackets\n",
        "def balanced_brackets(s):\n",
        "    stack = []\n",
        "    for i in s:\n",
        "        if i == \")\":\n",
        "            if not stack or stack[-1] != \"(\":\n",
        "                return False\n",
        "            stack.pop()\n",
        "        else:\n",
        "            stack.append(i)\n",
        "    return not stack\n",
        "\n",
        "term = input(\"Check composition of brackets in the following mathematical expression:\\n\")\n",
        "term = only_brackets(term)\n",
        "if (balanced_brackets(term)):\n",
        "    print(\"Composition of brackets is CORRECT\")\n",
        "else:\n",
        "    print(\"Composition of brackets is INCORRECT\")"
      ],
      "metadata": {
        "id": "2c67p_Zc6iK7",
        "colab": {
          "base_uri": "https://localhost:8080/"
        },
        "outputId": "36078911-3f92-4133-8304-a40cc0ac1a7a"
      }
    },
    {
      "cell_type": "markdown",
      "source": [
        "## Task 06 – Check Brackets II\n",
        "Extend previous program, so it can handle also square and curly brackets. Note that expressions in brackets cannot overlap. So, expression ```{[()()]([[]])}{}``` is correct, but expression ```([)]``` is not."
      ],
      "metadata": {
        "collapsed": false,
        "id": "k1kh3odh6iK7"
      }
    },
    {
      "cell_type": "code",
      "execution_count": 6,
      "outputs": [
        {
          "output_type": "stream",
          "name": "stdout",
          "text": [
            "Check composition of brackets in the following mathematical expression:\n",
            "(([]){})\n",
            "Brackets without other operators: (([]){})\n",
            "Composition of brackets is CORRECT\n"
          ]
        }
      ],
      "source": [
        "# Task 06 – Check Brackets II\n",
        "def only_brackets(term):\n",
        "    only = \"\"\n",
        "    l = {'}','{', ')','(', ']', '['}\n",
        "    for i in range(len(term)):\n",
        "        if term[i:i+1] in l:\n",
        "            only = only + term[i:i+1]\n",
        "        else:\n",
        "            continue\n",
        "    print(\"Brackets without other operators: \" + only)\n",
        "    return only\n",
        "\n",
        "# Checks balance of different types of brackets\n",
        "def balanced_brackets(s):\n",
        "    stack = []\n",
        "    dict = {'}': '{', ')': '(', ']': '['}\n",
        "    for i in s:\n",
        "        if i in '}])':\n",
        "            if not stack or stack[-1] != dict[i]:\n",
        "                return False\n",
        "            stack.pop()\n",
        "        else:\n",
        "            stack.append(i)\n",
        "    return not stack\n",
        "\n",
        "term = input(\"Check composition of brackets in the following mathematical expression:\\n\")\n",
        "term = only_brackets(term)\n",
        "if (balanced_brackets(term)):\n",
        "    print(\"Composition of brackets is CORRECT\")\n",
        "else:\n",
        "    print(\"Composition of brackets is INCORRECT\")"
      ],
      "metadata": {
        "id": "2-UCbTRQ6iK7",
        "colab": {
          "base_uri": "https://localhost:8080/"
        },
        "outputId": "9d70eda4-1611-45cf-ff41-5147e84b42d4"
      }
    },
    {
      "cell_type": "markdown",
      "source": [
        "## Task 07 – Queue\n",
        "Write a program that simulates a queue. It will read strings from the input. Consider these inputs as names of people coming to the end of a queue. Whenever “next” is given as input, the program will print out the name on the turn. The program finishes as soon as the queue is empty."
      ],
      "metadata": {
        "collapsed": false,
        "id": "tc-8rPlP6iK7"
      }
    },
    {
      "cell_type": "code",
      "execution_count": 7,
      "outputs": [
        {
          "output_type": "stream",
          "name": "stdout",
          "text": [
            "Arriving person: Lotta\n",
            "Arriving person: Lucas\n",
            "Arriving person: Franka\n",
            "Arriving person: next\n",
            "Lotta\n",
            "Arriving person: Josy\n",
            "Arriving person: Next\n",
            "Lucas\n",
            "Arriving person: Lea\n",
            "Arriving person: next\n",
            "Franka\n",
            "Arriving person: next\n",
            "Josy\n",
            "Arriving person: next\n",
            "Lea\n"
          ]
        }
      ],
      "source": [
        "# Task 07 – Queue\n",
        "queue = []\n",
        "empty = False\n",
        "while empty == False:\n",
        "    person = input(\"Arriving person: \")\n",
        "    if person == \"next\" or person == \"Next\":\n",
        "        print(queue[0])\n",
        "        queue.pop(0)\n",
        "    else:\n",
        "        queue.append(person)\n",
        "    if queue == []:\n",
        "        empty = True"
      ],
      "metadata": {
        "id": "X0o04N6s6iK7",
        "colab": {
          "base_uri": "https://localhost:8080/"
        },
        "outputId": "bddb0c04-a94c-44b7-bd9b-854a1998587d"
      }
    },
    {
      "cell_type": "markdown",
      "source": [
        "## Task 08 – Unlimited Power\n",
        "Write a function with two arguments – $x$ and $n$. The function returns the value of $x^n$. Use [recursion](https://realpython.com/python-thinking-recursively/#recursive-data-structures-in-python)."
      ],
      "metadata": {
        "collapsed": false,
        "id": "eIhaN3g36iK8"
      }
    },
    {
      "cell_type": "code",
      "execution_count": 8,
      "outputs": [
        {
          "output_type": "stream",
          "name": "stdout",
          "text": [
            "Calculation of x to the power of n:\n",
            "x: 4\n",
            "n: 6\n",
            "4096\n",
            "Correct\n"
          ]
        }
      ],
      "source": [
        "# Task 08 – Unlimited Power\n",
        "def unlimited_pow(x,n):\n",
        "    if n == 1:\n",
        "        return x\n",
        "    else:\n",
        "        return x*(unlimited_pow(x,n-1))\n",
        "\n",
        "# Test\n",
        "print(\"Calculation of x to the power of n:\")\n",
        "x = int(input(\"x: \"))\n",
        "n = int(input(\"n: \"))\n",
        "print(unlimited_pow(x,n))\n",
        "if unlimited_pow(x,n) == x**n:\n",
        "    print(\"Correct\")"
      ],
      "metadata": {
        "id": "KSGHEAeL6iK8",
        "colab": {
          "base_uri": "https://localhost:8080/"
        },
        "outputId": "aac0bbe8-1a21-4a97-9680-871d70f0e595"
      }
    },
    {
      "cell_type": "markdown",
      "source": [
        "## Task 09 – Unlimited Power II\n",
        "Using function for factorial and function $x^n$ from previous task, write a program that reads value of $x$ and prints approximate value of $e^x$. Use this formula (Taylor series) for calculation\n",
        "$$ e^x = 1 + x + \\frac{x^2}{2!} + \\frac{x^3}{3!} + ... + \\frac{x^n}{n!} $$\n",
        "\n",
        "To get precise value of $e^x$, the series would have to be infinite. Suppose that there is some required accuracy, so the calculation finishes as soon as the value of the next element is smaller than given threshold (e.g., 0.000001)."
      ],
      "metadata": {
        "collapsed": false,
        "id": "WBh2WBXY6iK8"
      }
    },
    {
      "cell_type": "code",
      "execution_count": 9,
      "outputs": [
        {
          "output_type": "stream",
          "name": "stdout",
          "text": [
            "Calculation of e to the power of x:\n",
            "x: 5\n",
            "Using math.exp(): 148.4131591025766\n",
            "Using math.factorial(): 148.37958007973663\n",
            "Using recursive function independent of math.: 148.41315910257657\n"
          ]
        }
      ],
      "source": [
        "# Task 09 – Unlimited Power II\n",
        "import math\n",
        "\n",
        "# Simple Solution using math.factorial()\n",
        "def taylor_pow(x, e_to_x = 0):\n",
        "    for i in range(15):\n",
        "        e_to_x = e_to_x + x**i/math.factorial(i)\n",
        "    return e_to_x\n",
        "\n",
        "# Recursive Solution, independent of math.\n",
        "\n",
        "def taylor_rec(x, n=100):\n",
        "    global p, f\n",
        "    p = 1\n",
        "    f = 1\n",
        "    if (n == 0):\n",
        "        return 1\n",
        "    r = taylor_rec(x, n - 1)\n",
        "    p = p * x\n",
        "    f = f * n\n",
        "    return (r + p / f)\n",
        "\n",
        "# Test\n",
        "print(\"Calculation of e to the power of x:\")\n",
        "x = int(input(\"x: \"))\n",
        "print(\"Using math.exp(): \" + str(math.exp(x)))\n",
        "print(\"Using math.factorial(): \" + str(taylor_pow(x)))\n",
        "print(\"Using recursive function independent of math.: \" + str(taylor_rec(x)))"
      ],
      "metadata": {
        "id": "tRaZgBVX6iK9",
        "colab": {
          "base_uri": "https://localhost:8080/"
        },
        "outputId": "dddcf316-c572-460a-db88-c9a8efa79334"
      }
    },
    {
      "cell_type": "markdown",
      "source": [
        "## Acknowledgements\n",
        "\n",
        "Redmond, Hsu, Saini, Gupta, Ramsey, Kondrich, Capoor, Cohen, Borus, Kincaid, Malik, and many others. - Stanford CS41"
      ],
      "metadata": {
        "collapsed": false,
        "id": "Wl9JCEYM6iK-"
      }
    },
    {
      "cell_type": "code",
      "execution_count": 9,
      "outputs": [],
      "source": [],
      "metadata": {
        "id": "Bx-WQj4v6iK-"
      }
    }
  ],
  "metadata": {
    "kernelspec": {
      "display_name": "Python 3",
      "language": "python",
      "name": "python3"
    },
    "language_info": {
      "codemirror_mode": {
        "name": "ipython",
        "version": 2
      },
      "file_extension": ".py",
      "mimetype": "text/x-python",
      "name": "python",
      "nbconvert_exporter": "python",
      "pygments_lexer": "ipython2",
      "version": "2.7.6"
    },
    "colab": {
      "provenance": []
    }
  },
  "nbformat": 4,
  "nbformat_minor": 0
}