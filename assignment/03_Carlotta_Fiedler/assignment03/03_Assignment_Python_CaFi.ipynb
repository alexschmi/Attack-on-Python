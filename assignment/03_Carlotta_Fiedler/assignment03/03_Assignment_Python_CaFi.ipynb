{
  "cells": [
    {
      "cell_type": "markdown",
      "source": [
        "# Assignment 03\n",
        "#### Python Basics III - Functions and Classes\n",
        "\n",
        "This tutorial was written by Terry L. Ruas (University of Göttingen). The references for external contributors for which this material was anyhow adapted/inspired are in the Acknowledgments section (end of the document)."
      ],
      "metadata": {
        "collapsed": false,
        "id": "3i7Q6MM_7a82"
      }
    },
    {
      "cell_type": "markdown",
      "source": [
        "This notebook will cover the following tasks:\n",
        "\n",
        "1. Dictionary\n",
        "2. Classes"
      ],
      "metadata": {
        "collapsed": false,
        "id": "eKtTDCOS7a83"
      }
    },
    {
      "cell_type": "markdown",
      "source": [
        "## Task 01 – Dictionary\n",
        "Imagine you have to write a (very simple) bookkeepingsystem for a bank that keeps track of the account balances of each of its customers.\n",
        "1. Write a function that spans a dictionary holding a default balance of 0 for an initial list of customers. For simplicity, assume customer names are unique identifier.  (optional) Can you express that same functionality using a lambda function?\n",
        "2. What are elegant ways to add or remove single and multiple customers using the functionality of dict?\n",
        "3. Now write two simple functions that allow you to deposit and withdraw money for a given bank customer.\n",
        "4. Include error messages for inputs that are not permissible, e.g., withdrawing negative amounts or overdrawing the account, etc."
      ],
      "metadata": {
        "collapsed": false,
        "id": "XumFInmh7a85"
      }
    },
    {
      "cell_type": "code",
      "source": [
        "# Task 01: Dictionary\n",
        "# ==============================================================================\n",
        "\n",
        "# ------------------------------------------------------------------------------\n",
        "# 1. Function that spans a dictionary holding a default balance of 0 for an \n",
        "# initial list of customers, or adds the given customer (single/multiple) to \n",
        "# an existing dictionary.\n",
        "# ------------------------------------------------------------------------------\n",
        "def initialize_customer(customer, d={}, balance=0):\n",
        "    if bool(d):\n",
        "        dict = d\n",
        "    else:\n",
        "        dict = {}\n",
        "\n",
        "    if type(customer) is list:\n",
        "        for i in range(0,len(customer)):\n",
        "            dict[customer[i]]=balance\n",
        "    elif type(customer) is str:\n",
        "        dict[customer]=balance\n",
        "    else:\n",
        "        return print(\"Error: invalid type of entered variable\")\n",
        "    return dict\n",
        "\n",
        "# ------------------------------------------------------------------------------\n",
        "# 2. Function that removes single and multiple customers.\n",
        "# ------------------------------------------------------------------------------\n",
        "def remove_customer(customer, dict):\n",
        "    if type(customer) is list:\n",
        "        for i in range(0, len(customer)):\n",
        "            del dict[customer[i]]\n",
        "    elif type(customer) is str:\n",
        "        del dict[customer]\n",
        "    else:\n",
        "        return print(\"Error: invalid type of entered variable\")\n",
        "    return dict\n",
        "\n",
        "# ------------------------------------------------------------------------------\n",
        "# 3. simple functions that allow you to deposit and withdraw money.\n",
        "# 4. Include error messages \n",
        "# ------------------------------------------------------------------------------\n",
        "def deposit(dict, customer, amount):\n",
        "    if amount < 0:\n",
        "        corr = input(\"Value to be deposit is a negative number. Please enter\"+\n",
        "                     \" a valid amount or enter '+' if you want to deposit the\"+\n",
        "                     \" positive value of the previously entered amount:\")\n",
        "        if corr == \"+\":\n",
        "            amount = abs(amount)\n",
        "        else:\n",
        "            amount = corr\n",
        "    dict[customer] = dict[customer] + amount\n",
        "    print(\"Deposit was successful. \" + customer + \"'s updated bank status is: \"+\n",
        "          str(dict[customer]))\n",
        "    return dict\n",
        "\n",
        "def withdraw(dict, customer, amount):\n",
        "    if amount < 0:\n",
        "        corr = input(\"Value to be deposit is a negative number. Please enter\"+\n",
        "                     \" a valid amount or enter '+' if you want to deposit the\"+\n",
        "                     \" positive value of the previously entered amount:\")\n",
        "        if corr == \"+\":\n",
        "            amount = abs(amount)\n",
        "        else:\n",
        "            amount = corr\n",
        "    if (dict[customer] - amount) == 0:\n",
        "        dict[customer] = dict[customer] - amount\n",
        "        print(\"You account is now empty.\")\n",
        "    elif (dict[customer] - amount) < 0:\n",
        "        print(\"!!! Warning: \" + customer + \" is overdrawing their account !!!\"+\n",
        "              \"\\nThere is only \" + str(dict[customer]) + \" left in the \"+\n",
        "              \"account. \\nPlease try again.\")\n",
        "    else:\n",
        "        dict[customer] = dict[customer] - amount\n",
        "        print(\"Withdraw was successful. \" + customer + \"'s updated bank \"+\n",
        "              \"status is: \" + str(dict[customer]))\n",
        "    return dict\n"
      ],
      "metadata": {
        "id": "SBd5N1LoTCg7"
      },
      "execution_count": 1,
      "outputs": []
    },
    {
      "cell_type": "code",
      "source": [
        "# ------------------------------------------------------------------------------\n",
        "# main\n",
        "# ------------------------------------------------------------------------------\n",
        "# Test 1:\n",
        "test  = initialize_customer(\"Otto\")\n",
        "print(test)\n",
        "\n",
        "# Test 2:\n",
        "names = [\"Carlo\", \"Lotta\", \"Carlotta\"]\n",
        "bank = initialize_customer(names)\n",
        "print(bank)\n",
        "initialize_customer(\"Carl\", bank)\n",
        "print(bank)\n",
        "initialize_customer(\"Schlotta\", bank, 100)\n",
        "print(bank)\n",
        "\n",
        "# Test 3:\n",
        "remove_customer(\"Carlo\", bank)\n",
        "print(bank)\n",
        "bank = remove_customer([\"Lotta\",\"Carl\"], bank)\n",
        "print(bank)\n",
        "initialize_customer(\"Lotti\", bank)\n",
        "print(bank)\n",
        "\n",
        "# Test 4:\n",
        "print(bank)\n",
        "deposit(bank, \"Carlotta\", 300)\n",
        "withdraw(bank, \"Carlotta\", 234)\n",
        "deposit(bank, \"Lotti\", 261)\n",
        "withdraw(bank, \"Schlotta\", 101)\n",
        "print(bank)\n"
      ],
      "metadata": {
        "colab": {
          "base_uri": "https://localhost:8080/"
        },
        "id": "Rz0B0g53TCoU",
        "outputId": "929b9a78-1472-469f-ed61-14cef9724e7a"
      },
      "execution_count": 2,
      "outputs": [
        {
          "output_type": "stream",
          "name": "stdout",
          "text": [
            "{'Otto': 0}\n",
            "{'Carlo': 0, 'Lotta': 0, 'Carlotta': 0}\n",
            "{'Carlo': 0, 'Lotta': 0, 'Carlotta': 0, 'Carl': 0}\n",
            "{'Carlo': 0, 'Lotta': 0, 'Carlotta': 0, 'Carl': 0, 'Schlotta': 100}\n",
            "{'Lotta': 0, 'Carlotta': 0, 'Carl': 0, 'Schlotta': 100}\n",
            "{'Carlotta': 0, 'Schlotta': 100}\n",
            "{'Carlotta': 0, 'Schlotta': 100, 'Lotti': 0}\n",
            "{'Carlotta': 0, 'Schlotta': 100, 'Lotti': 0}\n",
            "Deposit was successful. Carlotta's updated bank status is: 300\n",
            "Withdraw was successful. Carlotta's updated bank status is: 66\n",
            "Deposit was successful. Lotti's updated bank status is: 261\n",
            "!!! Warning: Schlotta is overdrawing their account !!!\n",
            "There is only 100 left in the account. \n",
            "Please try again.\n",
            "{'Carlotta': 66, 'Schlotta': 100, 'Lotti': 261}\n"
          ]
        }
      ]
    },
    {
      "cell_type": "markdown",
      "source": [
        "## Task 02 – Classes\n",
        "The manager thinks that the simple bookkeeping system you have built is not powerful enough. She requests that you start from scratch and use classes instead.\n",
        "1. Write a simple class with appropriate constructor *\\_\\_init\\_\\_* that initializes an object of class *Customer* tracking the same information as in Task 01.\n",
        "2. Now write two simple methods for class *Customer* that allow you to deposit and withdraw money for a given customer object.\n",
        "3. Include error messages for inputs that are not permissible, e.g., withdrawing negative amounts or overdrawing the account.\n",
        "4. (Inheritance) Write a child class *SavingsCustomer* that inherits its features from the parent class *Customer*. A savings customer has an extra savings balance for receiving extra interest. The class should have a method to transfer money back and forth between the accounts' main balance as well as the savings balance. Do not forget to add reasonable error messages."
      ],
      "metadata": {
        "collapsed": false,
        "id": "9tMOI3tn7a86"
      }
    },
    {
      "cell_type": "code",
      "execution_count": 3,
      "outputs": [],
      "source": [
        "# Task 02: Classes\n",
        "# ==============================================================================\n",
        "# ------------------------------------------------------------------------------\n",
        "# 1. Write a simple class with appropriate constructor *\\_\\_init\\_\\_* that \n",
        "# initializes an object of class *Customer*.\n",
        "# ------------------------------------------------------------------------------\n",
        "\n",
        "class Customer(object):\n",
        "    def __init__(self, name, balance = 0):\n",
        "        self.name = name\n",
        "        self.balance = balance\n",
        "\n",
        "# ------------------------------------------------------------------------------\n",
        "# 2. methods for class *Customer* that allow you to deposit and withdraw money.\n",
        "# 3. Include error messages.\n",
        "# ------------------------------------------------------------------------------\n",
        "    def perform_deposit(self, amount):\n",
        "        if amount < 0:\n",
        "            corr = input(\"Value to be deposit is a negative number. Please enter\"+\n",
        "                         \" a valid amount or enter '+' if you want to deposit the\"+\n",
        "                         \" positive value of the previously entered amount:\")\n",
        "            if corr == \"+\":\n",
        "                amount = abs(amount)\n",
        "            else:\n",
        "                amount = corr\n",
        "        self.balance = self.balance + amount\n",
        "        print(\"Deposit was successful. \" + self.name + \n",
        "              \"'s updated bank status is: \" + str(self.balance))\n",
        "\n",
        "\n",
        "    def perform_withdraw(self, amount):\n",
        "        if amount < 0:\n",
        "            corr = input(\"Value to be deposit is a negative number. Please enter\"+\n",
        "                         \" a valid amount or enter '+' if you want to deposit the\"+\n",
        "                         \" positive value of the previously entered amount:\")\n",
        "            if corr == \"+\":\n",
        "                amount = abs(amount)\n",
        "            else:\n",
        "                amount = corr\n",
        "        if (self.balance - amount) == 0:\n",
        "            self.balance = self.balance - amount\n",
        "            print(\"You account is now empty.\")\n",
        "        elif (self.balance - amount) < 0:\n",
        "            print(\"!!! Warning: \" + self.name + \" is overdrawing their account\"+\n",
        "                  \" !!! \\nThere is only \" + str(self.balance) + \" left in the\"+\n",
        "                  \" account. \\nPlease try again.\")\n",
        "        else:\n",
        "            self.balance = self.balance - amount\n",
        "            print(\"Withdraw was successful. \" + self.name + \n",
        "                  \"'s updated bank status is: \" + str(self.balance))\n",
        "\n",
        "# ------------------------------------------------------------------------------\n",
        "# 4. (Inheritance) Write a child class *SavingsCustomer* that inherits its \n",
        "# features from the parent class *Customer* plus an extra savings account.\n",
        "# ------------------------------------------------------------------------------\n",
        "class SavingsCustomer(Customer):\n",
        "\n",
        "    def __init__(self, name, savings= 0, balance = 0):\n",
        "        Customer.__init__(self, name, balance)\n",
        "        self.savings = savings\n",
        "        self.balance = balance - savings\n",
        "\n",
        "    def transfer_savings(self, amount, saving=True):\n",
        "        if amount < 0:\n",
        "            corr = input(\"Value to be deposit is a negative number. Please enter\"+\n",
        "                         \" a valid amount or enter '+' if you want to deposit the\"+\n",
        "                         \" positive value of the previously entered amount:\")\n",
        "            if corr == \"+\":\n",
        "                amount = abs(amount)\n",
        "            else:\n",
        "                amount = corr\n",
        "\n",
        "        if saving:\n",
        "            if amount > self.balance:\n",
        "                print(\"!!! Warning: \" + self.name + \" is overdrawing their \"+\n",
        "                      \"account !!! \\nThere is only \" + str(self.balance) + \n",
        "                      \" left in the account to transfer to savings. \"+\n",
        "                      \"\\nPlease try again.\")\n",
        "            else:\n",
        "                self.savings = self.savings + amount\n",
        "                self.balance = self.balance - amount\n",
        "                print(\"Transfer to savings was successful. \" + self.name + \n",
        "                      \"'s updated savings status is: \" + str(self.savings))\n",
        "\n",
        "        else:\n",
        "            if amount > self.savings:\n",
        "                print(\"!!! Warning: \" + self.name + \" is trying to transfer \"+\n",
        "                      \"more money than is currently in their savings !!! \"+\n",
        "                      \"\\nThere is only \" + str(self.savings) + \n",
        "                      \" left to transfer from savings. \\nPlease try again.\")\n",
        "            else:\n",
        "                self.savings = self.savings - amount\n",
        "                self.balance = self.balance + amount\n",
        "                print(\"Transfer from savings was successful. \" + self.name + \n",
        "                      \"'s updated savings status is: \" + str(self.savings))\n",
        "\n",
        "        if self.savings == 0:\n",
        "            print(\"There is no money left in savings.\")\n",
        "        if self.balance == 0:\n",
        "            print(\"There is no money left in the normal bank account.\")"
      ],
      "metadata": {
        "id": "mcZ6wBOO7a86"
      }
    },
    {
      "cell_type": "code",
      "source": [
        "# ------------------------------------------------------------------------------\n",
        "# main\n",
        "# ------------------------------------------------------------------------------\n",
        "\n",
        "me = Customer(\"Carlotta\")\n",
        "me.perform_deposit(125)\n",
        "\n",
        "my_savings = SavingsCustomer(\"Me\")\n",
        "my_savings.perform_deposit(345)\n",
        "my_savings.transfer_savings(58,True)\n",
        "my_savings.transfer_savings(59,False)\n",
        "my_savings.transfer_savings(50,False)\n"
      ],
      "metadata": {
        "colab": {
          "base_uri": "https://localhost:8080/"
        },
        "id": "MQV8Pw42Sgpx",
        "outputId": "e22078ec-d102-49cb-fe7d-25d7a49c87d3"
      },
      "execution_count": 4,
      "outputs": [
        {
          "output_type": "stream",
          "name": "stdout",
          "text": [
            "Deposit was successful. Carlotta's updated bank status is: 125\n",
            "Deposit was successful. Me's updated bank status is: 345\n",
            "Transfer to savings was successful. Me's updated savings status is: 58\n",
            "!!! Warning: Me is trying to transfer more money than is currently in their savings !!! \n",
            "There is only 58 left to transfer from savings. \n",
            "Please try again.\n",
            "Transfer from savings was successful. Me's updated savings status is: 8\n"
          ]
        }
      ]
    }
  ],
  "metadata": {
    "kernelspec": {
      "display_name": "Python 3",
      "language": "python",
      "name": "python3"
    },
    "language_info": {
      "codemirror_mode": {
        "name": "ipython",
        "version": 2
      },
      "file_extension": ".py",
      "mimetype": "text/x-python",
      "name": "python",
      "nbconvert_exporter": "python",
      "pygments_lexer": "ipython2",
      "version": "2.7.6"
    },
    "colab": {
      "provenance": []
    }
  },
  "nbformat": 4,
  "nbformat_minor": 0
}