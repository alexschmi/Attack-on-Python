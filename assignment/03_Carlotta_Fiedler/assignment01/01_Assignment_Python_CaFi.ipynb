{
  "cells": [
    {
      "cell_type": "markdown",
      "source": [
        "# Assignment 01\n",
        "##### Python Basics I\n",
        "\n",
        "This tutorial was written by Terry Ruas (University of Göttingen). The references for external contributors for which this material was anyhow adapted/inspired are in the Acknowledgments section (end of the document).\n"
      ],
      "metadata": {
        "collapsed": false,
        "id": "LZgQdr4W6iKz"
      }
    },
    {
      "cell_type": "markdown",
      "source": [
        "## Task 01 – Hello World!\n",
        "Write a simple program that asks the user to input a name and outputs a simple greeting, such as ‘Hi Name! Nice to meet you!’ and in the other line, ‘Welcome to the Programing Course!’. \n",
        "\n",
        "*Hint: Check out the input () and print() function in Python.* "
      ],
      "metadata": {
        "collapsed": false,
        "id": "4GPUv_8U6iK1"
      }
    },
    {
      "cell_type": "code",
      "execution_count": 1,
      "outputs": [
        {
          "output_type": "stream",
          "name": "stdout",
          "text": [
            "Hi, what is your name? Lotta\n",
            "Nice to meet you, Lotta .\n",
            "Welcome to the Programing Course!\n"
          ]
        }
      ],
      "source": [
        "name = input('Hi, what is your name? ')\n",
        "print('Nice to meet you,', name, '.')\n",
        "print('Welcome to the Programing Course!')"
      ],
      "metadata": {
        "id": "xt3XV0YD6iK2",
        "colab": {
          "base_uri": "https://localhost:8080/"
        },
        "outputId": "134d98c9-f48a-4edb-b81e-02535726b457"
      }
    },
    {
      "cell_type": "markdown",
      "source": [
        "## Task 02 – Reversed Words\n",
        "Write a program that reads in a word provided by the user and prints the word in a reversed order. For example, if the input is hello, the output should be ‘olleh’. \n",
        "\n",
        "- Use a loop structure \n",
        "- Use just array indexes \n"
      ],
      "metadata": {
        "collapsed": false,
        "id": "_Jz4T4AQ6iK3"
      }
    },
    {
      "cell_type": "code",
      "execution_count": null,
      "outputs": [
        {
          "output_type": "stream",
          "name": "stdout",
          "text": [
            "Reverse the following word with a Loop-Programm: hallo\n",
            "hallo reversed is: ollah\n",
            "Reverse the following word using String-Indices: Lotta\n",
            "Lotta reversed is: attoL\n"
          ]
        }
      ],
      "source": [
        "# Using a Loop-Structure:\n",
        "word1=input('Reverse the following word with a Loop-Programm: ')\n",
        "rev=''\n",
        "for i in range(0, (len(word1))):\n",
        "    rev = word1[i] + rev\n",
        "print(word1 + ' reversed is: ' + rev)\n",
        "# Using only String indices:\n",
        "word2=input('Reverse the following word using String-Indices: ')\n",
        "print(word2 + ' reversed is: ' + word2[::-1])"
      ],
      "metadata": {
        "id": "aKLGcZ0_6iK3",
        "colab": {
          "base_uri": "https://localhost:8080/"
        },
        "outputId": "d07a702e-dfcf-4edd-ad37-07f19138aa23"
      }
    },
    {
      "cell_type": "markdown",
      "source": [
        "## Task 03 –  Fibonacci Numbers\n",
        "Write a program that reads in an upper bound (number) provided by the user and prints the sequence of Fibonacci numbers that are less or equal to the number given by the user. Use a while-loop for this task. \n",
        "\n",
        "The Fibonacci sequence is defined as \n",
        "$ F_{n}=F_{n−1}+F_{n−2}$. Use $F_{0}=0$ and $F_{1} = 1$ as seed values.  \n",
        "\n",
        "For example, if the user inputs 6, the output should be 0, 1, 1, 2, 3, 5. \n",
        "\n",
        "\n",
        "\n"
      ],
      "metadata": {
        "collapsed": false,
        "id": "PalhJ9x36iK4"
      }
    },
    {
      "cell_type": "code",
      "execution_count": null,
      "outputs": [
        {
          "output_type": "stream",
          "name": "stdout",
          "text": [
            "Upper bound for Fibonacci Order: \n",
            "8\n",
            "[0, 1, 1, 2, 3, 5, 8, 13]\n"
          ]
        }
      ],
      "source": [
        "print('Upper bound for Fibonacci Order: ')\n",
        "upper_bound = int(input())\n",
        "if upper_bound == 0:\n",
        "    print([0])\n",
        "elif upper_bound == 1:\n",
        "    print([0, 1])\n",
        "else:\n",
        "    fib=[0]*upper_bound\n",
        "    fib[0]=0\n",
        "    fib[1]=1\n",
        "    i=2\n",
        "    while i < upper_bound:\n",
        "        fib[i]=fib[i-1] + fib[i-2]\n",
        "        i = i+1\n",
        "    print(fib)"
      ],
      "metadata": {
        "id": "vm5UlcKB6iK4",
        "colab": {
          "base_uri": "https://localhost:8080/"
        },
        "outputId": "a285cd90-4950-4d61-f7da-a6ae41b03bfb"
      }
    },
    {
      "cell_type": "markdown",
      "source": [
        "## Task 04 – Selective Printing \n",
        "\n",
        "Write a program that reads in an upper bound (number) provided by the user and prints all integer numbers that are less or equal to the upper bound except the integer numbers that are divisible by 3. Use the continue statement. For example, if the user enters 6 as the upper bound, the output should be 0, 1, 2, 4, 5.  "
      ],
      "metadata": {
        "collapsed": false,
        "id": "JV1Mm9qA6iK5"
      }
    },
    {
      "cell_type": "code",
      "execution_count": null,
      "outputs": [
        {
          "output_type": "stream",
          "name": "stdout",
          "text": [
            "Upper bound: \n",
            "6\n",
            "1\n",
            "2\n",
            "4\n",
            "5\n"
          ]
        }
      ],
      "source": [
        "print('Upper bound: ')\n",
        "upper_bound = int(input())\n",
        "for i in range(upper_bound):\n",
        "    if (i % 3)!=0:\n",
        "        print(i)"
      ],
      "metadata": {
        "id": "C3i7ctus6iK6",
        "colab": {
          "base_uri": "https://localhost:8080/"
        },
        "outputId": "190dc5d8-f270-4604-de3e-f24c53f19779"
      }
    },
    {
      "cell_type": "markdown",
      "source": [
        "## Task 05 – Triangle Checking   \n",
        "\n",
        "Write a Python program that asks the user to input the lengths of the sides in a triangle and outputs whether the triangle is equilateral, isosceles, or scalene. The program should also check for the Triangle inequality $(z < x + y)$,  and prompt the user for a valid input. \n",
        "\n",
        "- An equilateral triangle is a triangle in which all three sides are of equal length. \n",
        "- An isosceles triangle is a triangle with (at least) two sides of equal length. \n",
        "- A scalene triangle is a triangle in which all three sides have different lengths. \n",
        "\n",
        "For example, if the user inputs a=3, b=4, c=5, the triangle is scalene. \n"
      ],
      "metadata": {
        "collapsed": false,
        "id": "qz4P36Lz6iK6"
      }
    },
    {
      "cell_type": "code",
      "execution_count": null,
      "outputs": [
        {
          "output_type": "stream",
          "name": "stdout",
          "text": [
            "Lengths of triangle sides:\n",
            "a: 4\n",
            "b: 4\n",
            "c: 5\n",
            "The given Triangle is isosceles\n",
            "The Triangle Inequality Rule applies.\n"
          ]
        }
      ],
      "source": [
        "# Identification of the Type\n",
        "def triangle_type(a,b,c):\n",
        "    if a == b and a == c:\n",
        "        return 'equilateral'\n",
        "    elif a == b or a == c or c == b:\n",
        "        return 'isosceles'\n",
        "    else:\n",
        "        return 'scalene'\n",
        "# Test for Triangle Inequality\n",
        "def triangle_inequality(a,b,c):\n",
        "    if (c<a+b) or (a<c+b) or (b<a+c):\n",
        "        return True\n",
        "    else:\n",
        "        return False\n",
        "# Prompt\n",
        "print('Lengths of triangle sides:')\n",
        "a = int(input('a: '))\n",
        "b = int(input('b: '))\n",
        "c = int(input('c: '))\n",
        "print('The given Triangle is '+triangle_type(a,b,c))\n",
        "if triangle_inequality(a,b,c):\n",
        "    print('The Triangle Inequality Rule applies.')\n",
        "else:\n",
        "    print('The Triangle Inequality Rule does not apply with the given values.')\n"
      ],
      "metadata": {
        "id": "2c67p_Zc6iK7",
        "colab": {
          "base_uri": "https://localhost:8080/"
        },
        "outputId": "61345927-34cf-47ab-db20-aa60c1db4c4c"
      }
    },
    {
      "cell_type": "markdown",
      "source": [
        "## Task 06 – Decimal to Octal Conversion \n",
        "\n",
        "Write a program that reads a non-negative integer number in the decimal representation provided by the user and prints the octal representation of the number. For example, if the user enters 167, the output should be 247.  \n",
        "\n",
        "Write a more general program that reads in a non-negative number (potentially including decimal places) in the decimal representation provided by the user and prints the octal representation of the number. For example, if the user enters 25.11, the output should be 31.0702436560507534. "
      ],
      "metadata": {
        "collapsed": false,
        "id": "k1kh3odh6iK7"
      }
    },
    {
      "cell_type": "code",
      "execution_count": 4,
      "outputs": [
        {
          "output_type": "stream",
          "name": "stdout",
          "text": [
            "Give a decimal number (integer or float): \n",
            "15\n",
            "Converted into octal number: 17\n"
          ]
        }
      ],
      "source": [
        "# Task 06 - Decimal to Octal Conversion\n",
        "# a) Converting Integers\n",
        "def int_dec2oct(dec):\n",
        "    octal = \"\"\n",
        "    while dec > 0:\n",
        "        rest = dec % 8\n",
        "        dec = dec // 8\n",
        "        octal = str(rest) + octal\n",
        "    return int(octal)\n",
        "\n",
        "# b) Converting Floats (DOES NOT WORK PROPERLY)\n",
        "def float_dec2oct(dec):\n",
        "    print(\"ValueError in float_dec2oct() - returned number is decimal:\")\n",
        "    return(dec)\n",
        "    whole, comma = str(dec).split(\".\")\n",
        "    whole = int(whole)\n",
        "    comma = int(comma)\n",
        "    octal = int_dec2oct(whole)\n",
        "\n",
        "    for x in range(3):\n",
        "        while comma > 1:\n",
        "            comma = comma // 10\n",
        "        whole, comma = str(comma * 8).split(\".\")\n",
        "        comma = int(comma)\n",
        "\n",
        "        octal = octal + whole\n",
        "\n",
        "    return octal\n",
        "\n",
        "# Conversion\n",
        "print('Give a decimal number (integer or float): ')\n",
        "x = input()\n",
        "if \".\" in x:\n",
        "    octal = float_dec2oct(x)\n",
        "else:\n",
        "    x = int(x)\n",
        "    octal = int_dec2oct(x)\n",
        "print('Converted into octal number: ' + str(octal))\n"
      ],
      "metadata": {
        "id": "2-UCbTRQ6iK7",
        "colab": {
          "base_uri": "https://localhost:8080/"
        },
        "outputId": "bd2757df-a6d7-414c-bf66-81006a182ac9"
      }
    },
    {
      "cell_type": "markdown",
      "source": [
        "## Acknowledgements\n",
        "\n",
        "Redmond, Hsu, Saini, Gupta, Ramsey, Kondrich, Capoor, Cohen, Borus, Kincaid, Malik, and many others. - Stanford CS41"
      ],
      "metadata": {
        "collapsed": false,
        "id": "Wl9JCEYM6iK-"
      }
    },
    {
      "cell_type": "code",
      "execution_count": null,
      "outputs": [],
      "source": [],
      "metadata": {
        "id": "Bx-WQj4v6iK-"
      }
    }
  ],
  "metadata": {
    "kernelspec": {
      "display_name": "Python 3",
      "language": "python",
      "name": "python3"
    },
    "language_info": {
      "codemirror_mode": {
        "name": "ipython",
        "version": 2
      },
      "file_extension": ".py",
      "mimetype": "text/x-python",
      "name": "python",
      "nbconvert_exporter": "python",
      "pygments_lexer": "ipython2",
      "version": "2.7.6"
    },
    "colab": {
      "provenance": []
    }
  },
  "nbformat": 4,
  "nbformat_minor": 0
}